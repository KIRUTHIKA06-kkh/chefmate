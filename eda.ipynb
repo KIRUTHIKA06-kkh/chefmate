{
 "cells": [
  {
   "cell_type": "code",
   "execution_count": 1,
   "metadata": {},
   "outputs": [],
   "source": [
    "import mysql.connector\n",
    "from dotenv import load_dotenv\n",
    "import os\n",
    "import pandas as pd"
   ]
  },
  {
   "cell_type": "code",
   "execution_count": 2,
   "metadata": {},
   "outputs": [
    {
     "data": {
      "text/plain": [
       "True"
      ]
     },
     "execution_count": 2,
     "metadata": {},
     "output_type": "execute_result"
    }
   ],
   "source": [
    "load_dotenv()"
   ]
  },
  {
   "cell_type": "code",
   "execution_count": 3,
   "metadata": {},
   "outputs": [],
   "source": [
    "mydb = mysql.connector.connect(\n",
    "       host = 'chefmatedb.c3i8ggm6665z.ap-south-1.rds.amazonaws.com',\n",
    "       port = 3306,\n",
    "       user = 'admin',\n",
    "       password = os.getenv('dbpassword'))\n"
   ]
  },
  {
   "cell_type": "code",
   "execution_count": 4,
   "metadata": {},
   "outputs": [],
   "source": [
    "mycursor=mydb.cursor()"
   ]
  },
  {
   "cell_type": "code",
   "execution_count": 5,
   "metadata": {},
   "outputs": [],
   "source": [
    "mycursor.execute('create database restaurant')\n",
    "\n",
    "mydb.commit()"
   ]
  },
  {
   "cell_type": "code",
   "execution_count": 6,
   "metadata": {},
   "outputs": [],
   "source": [
    "mycursor.execute('show databases')"
   ]
  },
  {
   "cell_type": "code",
   "execution_count": 7,
   "metadata": {},
   "outputs": [
    {
     "data": {
      "text/plain": [
       "[('information_schema',),\n",
       " ('mysql',),\n",
       " ('performance_schema',),\n",
       " ('restaurant',),\n",
       " ('sys',)]"
      ]
     },
     "execution_count": 7,
     "metadata": {},
     "output_type": "execute_result"
    }
   ],
   "source": [
    "mycursor.fetchall()"
   ]
  },
  {
   "cell_type": "code",
   "execution_count": 8,
   "metadata": {},
   "outputs": [],
   "source": [
    "import sqlalchemy"
   ]
  },
  {
   "cell_type": "code",
   "execution_count": 9,
   "metadata": {},
   "outputs": [],
   "source": [
    "server = 'chefmatedb.c3i8ggm6665z.ap-south-1.rds.amazonaws.com'\n",
    "port = 3306\n",
    "user = 'admin'\n",
    "password = os.getenv('dbpassword')\n",
    "database = 'restaurant'\n",
    "sqltype = 'mysql+mysqlconnector'\n",
    "\n",
    "engine = sqlalchemy.create_engine(f'{sqltype}://{user}:{password}@{server}:{port}/{database}')"
   ]
  },
  {
   "cell_type": "code",
   "execution_count": 10,
   "metadata": {},
   "outputs": [],
   "source": [
    "zomato_df=pd.read_csv('zomato_df.csv')"
   ]
  },
  {
   "cell_type": "code",
   "execution_count": null,
   "metadata": {},
   "outputs": [
    {
     "data": {
      "text/html": [
       "<div>\n",
       "<style scoped>\n",
       "    .dataframe tbody tr th:only-of-type {\n",
       "        vertical-align: middle;\n",
       "    }\n",
       "\n",
       "    .dataframe tbody tr th {\n",
       "        vertical-align: top;\n",
       "    }\n",
       "\n",
       "    .dataframe thead th {\n",
       "        text-align: right;\n",
       "    }\n",
       "</style>\n",
       "<table border=\"1\" class=\"dataframe\">\n",
       "  <thead>\n",
       "    <tr style=\"text-align: right;\">\n",
       "      <th></th>\n",
       "      <th>Restaurant ID</th>\n",
       "      <th>Restaurant Name</th>\n",
       "      <th>Location</th>\n",
       "      <th>Cuisine</th>\n",
       "      <th>Ratings</th>\n",
       "      <th>Rating text</th>\n",
       "      <th>Average Cost for Two</th>\n",
       "      <th>Price Range</th>\n",
       "      <th>Table Booking</th>\n",
       "      <th>Online Delivery</th>\n",
       "      <th>Delivering now</th>\n",
       "      <th>Longitude</th>\n",
       "      <th>Latitude</th>\n",
       "      <th>City</th>\n",
       "      <th>Locality</th>\n",
       "    </tr>\n",
       "  </thead>\n",
       "  <tbody>\n",
       "    <tr>\n",
       "      <th>0</th>\n",
       "      <td>308322</td>\n",
       "      <td>Hauz Khas Social</td>\n",
       "      <td>9-A &amp; 12, Hauz Khas Village, New Delhi</td>\n",
       "      <td>Continental, American, Asian, North Indian</td>\n",
       "      <td>4.3</td>\n",
       "      <td>Very Good</td>\n",
       "      <td>1600</td>\n",
       "      <td>3</td>\n",
       "      <td>1</td>\n",
       "      <td>1</td>\n",
       "      <td>0</td>\n",
       "      <td>77.194471</td>\n",
       "      <td>28.554285</td>\n",
       "      <td>New Delhi</td>\n",
       "      <td>Hauz Khas Village</td>\n",
       "    </tr>\n",
       "    <tr>\n",
       "      <th>1</th>\n",
       "      <td>18037817</td>\n",
       "      <td>Qubitos - The Terrace Cafe</td>\n",
       "      <td>C-7, Vishal Enclave, Opposite Metro Pillar 417...</td>\n",
       "      <td>Thai, European, Mexican, North Indian, Chinese...</td>\n",
       "      <td>4.5</td>\n",
       "      <td>Excellent</td>\n",
       "      <td>1500</td>\n",
       "      <td>3</td>\n",
       "      <td>1</td>\n",
       "      <td>0</td>\n",
       "      <td>0</td>\n",
       "      <td>77.117701</td>\n",
       "      <td>28.647133</td>\n",
       "      <td>New Delhi</td>\n",
       "      <td>Rajouri Garden</td>\n",
       "    </tr>\n",
       "    <tr>\n",
       "      <th>2</th>\n",
       "      <td>312345</td>\n",
       "      <td>The Hudson Cafe</td>\n",
       "      <td>2524, 1st Floor, Hudson Lane, Delhi University...</td>\n",
       "      <td>Cafe, Italian, Continental, Chinese</td>\n",
       "      <td>4.4</td>\n",
       "      <td>Very Good</td>\n",
       "      <td>850</td>\n",
       "      <td>2</td>\n",
       "      <td>0</td>\n",
       "      <td>1</td>\n",
       "      <td>0</td>\n",
       "      <td>77.204317</td>\n",
       "      <td>28.694947</td>\n",
       "      <td>New Delhi</td>\n",
       "      <td>Delhi University-GTB Nagar</td>\n",
       "    </tr>\n",
       "    <tr>\n",
       "      <th>3</th>\n",
       "      <td>307490</td>\n",
       "      <td>Summer House Cafe</td>\n",
       "      <td>1st Floor, DDA Shopping Complex, Aurobindo Pla...</td>\n",
       "      <td>Italian, Continental</td>\n",
       "      <td>4.1</td>\n",
       "      <td>Very Good</td>\n",
       "      <td>1850</td>\n",
       "      <td>3</td>\n",
       "      <td>1</td>\n",
       "      <td>0</td>\n",
       "      <td>0</td>\n",
       "      <td>77.203809</td>\n",
       "      <td>28.552520</td>\n",
       "      <td>New Delhi</td>\n",
       "      <td>Hauz Khas</td>\n",
       "    </tr>\n",
       "    <tr>\n",
       "      <th>4</th>\n",
       "      <td>18241537</td>\n",
       "      <td>38 Barracks</td>\n",
       "      <td>M-38, Outer Circle, Connaught Place, New Delhi</td>\n",
       "      <td>North Indian, Italian, Asian, American</td>\n",
       "      <td>4.4</td>\n",
       "      <td>Very Good</td>\n",
       "      <td>1600</td>\n",
       "      <td>3</td>\n",
       "      <td>1</td>\n",
       "      <td>0</td>\n",
       "      <td>0</td>\n",
       "      <td>77.222858</td>\n",
       "      <td>28.633025</td>\n",
       "      <td>New Delhi</td>\n",
       "      <td>Connaught Place</td>\n",
       "    </tr>\n",
       "    <tr>\n",
       "      <th>...</th>\n",
       "      <td>...</td>\n",
       "      <td>...</td>\n",
       "      <td>...</td>\n",
       "      <td>...</td>\n",
       "      <td>...</td>\n",
       "      <td>...</td>\n",
       "      <td>...</td>\n",
       "      <td>...</td>\n",
       "      <td>...</td>\n",
       "      <td>...</td>\n",
       "      <td>...</td>\n",
       "      <td>...</td>\n",
       "      <td>...</td>\n",
       "      <td>...</td>\n",
       "      <td>...</td>\n",
       "    </tr>\n",
       "    <tr>\n",
       "      <th>29748</th>\n",
       "      <td>17582627</td>\n",
       "      <td>Senor Iguanas</td>\n",
       "      <td>961 Hiline Rd, Pocatello, ID 83201</td>\n",
       "      <td>Mexican</td>\n",
       "      <td>3.6</td>\n",
       "      <td>Good</td>\n",
       "      <td>0</td>\n",
       "      <td>1</td>\n",
       "      <td>0</td>\n",
       "      <td>0</td>\n",
       "      <td>0</td>\n",
       "      <td>-112.443300</td>\n",
       "      <td>42.894200</td>\n",
       "      <td>Pocatello</td>\n",
       "      <td>Pocatello</td>\n",
       "    </tr>\n",
       "    <tr>\n",
       "      <th>29749</th>\n",
       "      <td>17582625</td>\n",
       "      <td>Sandpiper Restaurant &amp; Lounge</td>\n",
       "      <td>1400 Bench Rd, Pocatello, ID 83201</td>\n",
       "      <td>American, Seafood, Steak</td>\n",
       "      <td>3.6</td>\n",
       "      <td>Good</td>\n",
       "      <td>40</td>\n",
       "      <td>3</td>\n",
       "      <td>0</td>\n",
       "      <td>0</td>\n",
       "      <td>0</td>\n",
       "      <td>-112.432000</td>\n",
       "      <td>42.901200</td>\n",
       "      <td>Pocatello</td>\n",
       "      <td>Pocatello</td>\n",
       "    </tr>\n",
       "    <tr>\n",
       "      <th>29750</th>\n",
       "      <td>17582668</td>\n",
       "      <td>Texas Roadhouse</td>\n",
       "      <td>560 Bullock Street, Pocatello, ID 83202</td>\n",
       "      <td>American, BBQ, Steak</td>\n",
       "      <td>3.5</td>\n",
       "      <td>Good</td>\n",
       "      <td>45</td>\n",
       "      <td>3</td>\n",
       "      <td>0</td>\n",
       "      <td>0</td>\n",
       "      <td>0</td>\n",
       "      <td>-112.461326</td>\n",
       "      <td>42.910518</td>\n",
       "      <td>Pocatello</td>\n",
       "      <td>Chubbuck</td>\n",
       "    </tr>\n",
       "    <tr>\n",
       "      <th>29751</th>\n",
       "      <td>17582498</td>\n",
       "      <td>Riverwalk Cafe</td>\n",
       "      <td>695 E Main St, Lava Hot Springs, ID 83246</td>\n",
       "      <td>Asian, Thai</td>\n",
       "      <td>3.6</td>\n",
       "      <td>Good</td>\n",
       "      <td>10</td>\n",
       "      <td>1</td>\n",
       "      <td>0</td>\n",
       "      <td>0</td>\n",
       "      <td>0</td>\n",
       "      <td>-112.013200</td>\n",
       "      <td>42.620000</td>\n",
       "      <td>Pocatello</td>\n",
       "      <td>Lava Hot Springs</td>\n",
       "    </tr>\n",
       "    <tr>\n",
       "      <th>29752</th>\n",
       "      <td>17582499</td>\n",
       "      <td>Royal Hotel</td>\n",
       "      <td>11 E Main St, Lava Hot Springs, ID 83246</td>\n",
       "      <td>Pizza, Bar Food</td>\n",
       "      <td>3.6</td>\n",
       "      <td>Good</td>\n",
       "      <td>0</td>\n",
       "      <td>1</td>\n",
       "      <td>0</td>\n",
       "      <td>0</td>\n",
       "      <td>0</td>\n",
       "      <td>-112.012700</td>\n",
       "      <td>42.619200</td>\n",
       "      <td>Pocatello</td>\n",
       "      <td>Lava Hot Springs</td>\n",
       "    </tr>\n",
       "  </tbody>\n",
       "</table>\n",
       "<p>29753 rows × 15 columns</p>\n",
       "</div>"
      ],
      "text/plain": [
       "       Restaurant ID                Restaurant Name  \\\n",
       "0             308322               Hauz Khas Social   \n",
       "1           18037817     Qubitos - The Terrace Cafe   \n",
       "2             312345                The Hudson Cafe   \n",
       "3             307490              Summer House Cafe   \n",
       "4           18241537                    38 Barracks   \n",
       "...              ...                            ...   \n",
       "29748       17582627                  Senor Iguanas   \n",
       "29749       17582625  Sandpiper Restaurant & Lounge   \n",
       "29750       17582668                Texas Roadhouse   \n",
       "29751       17582498                 Riverwalk Cafe   \n",
       "29752       17582499                    Royal Hotel   \n",
       "\n",
       "                                                Location  \\\n",
       "0                 9-A & 12, Hauz Khas Village, New Delhi   \n",
       "1      C-7, Vishal Enclave, Opposite Metro Pillar 417...   \n",
       "2      2524, 1st Floor, Hudson Lane, Delhi University...   \n",
       "3      1st Floor, DDA Shopping Complex, Aurobindo Pla...   \n",
       "4         M-38, Outer Circle, Connaught Place, New Delhi   \n",
       "...                                                  ...   \n",
       "29748                 961 Hiline Rd, Pocatello, ID 83201   \n",
       "29749                 1400 Bench Rd, Pocatello, ID 83201   \n",
       "29750            560 Bullock Street, Pocatello, ID 83202   \n",
       "29751          695 E Main St, Lava Hot Springs, ID 83246   \n",
       "29752           11 E Main St, Lava Hot Springs, ID 83246   \n",
       "\n",
       "                                                 Cuisine  Ratings Rating text  \\\n",
       "0             Continental, American, Asian, North Indian      4.3   Very Good   \n",
       "1      Thai, European, Mexican, North Indian, Chinese...      4.5   Excellent   \n",
       "2                    Cafe, Italian, Continental, Chinese      4.4   Very Good   \n",
       "3                                   Italian, Continental      4.1   Very Good   \n",
       "4                 North Indian, Italian, Asian, American      4.4   Very Good   \n",
       "...                                                  ...      ...         ...   \n",
       "29748                                            Mexican      3.6        Good   \n",
       "29749                           American, Seafood, Steak      3.6        Good   \n",
       "29750                               American, BBQ, Steak      3.5        Good   \n",
       "29751                                        Asian, Thai      3.6        Good   \n",
       "29752                                    Pizza, Bar Food      3.6        Good   \n",
       "\n",
       "       Average Cost for Two  Price Range  Table Booking  Online Delivery  \\\n",
       "0                      1600            3              1                1   \n",
       "1                      1500            3              1                0   \n",
       "2                       850            2              0                1   \n",
       "3                      1850            3              1                0   \n",
       "4                      1600            3              1                0   \n",
       "...                     ...          ...            ...              ...   \n",
       "29748                     0            1              0                0   \n",
       "29749                    40            3              0                0   \n",
       "29750                    45            3              0                0   \n",
       "29751                    10            1              0                0   \n",
       "29752                     0            1              0                0   \n",
       "\n",
       "       Delivering now   Longitude   Latitude       City  \\\n",
       "0                   0   77.194471  28.554285  New Delhi   \n",
       "1                   0   77.117701  28.647133  New Delhi   \n",
       "2                   0   77.204317  28.694947  New Delhi   \n",
       "3                   0   77.203809  28.552520  New Delhi   \n",
       "4                   0   77.222858  28.633025  New Delhi   \n",
       "...               ...         ...        ...        ...   \n",
       "29748               0 -112.443300  42.894200  Pocatello   \n",
       "29749               0 -112.432000  42.901200  Pocatello   \n",
       "29750               0 -112.461326  42.910518  Pocatello   \n",
       "29751               0 -112.013200  42.620000  Pocatello   \n",
       "29752               0 -112.012700  42.619200  Pocatello   \n",
       "\n",
       "                         Locality  \n",
       "0               Hauz Khas Village  \n",
       "1                  Rajouri Garden  \n",
       "2      Delhi University-GTB Nagar  \n",
       "3                       Hauz Khas  \n",
       "4                 Connaught Place  \n",
       "...                           ...  \n",
       "29748                   Pocatello  \n",
       "29749                   Pocatello  \n",
       "29750                    Chubbuck  \n",
       "29751            Lava Hot Springs  \n",
       "29752            Lava Hot Springs  \n",
       "\n",
       "[29753 rows x 15 columns]"
      ]
     },
     "execution_count": 11,
     "metadata": {},
     "output_type": "execute_result"
    }
   ],
   "source": [
    "zomato_df"
   ]
  },
  {
   "cell_type": "code",
   "execution_count": 12,
   "metadata": {},
   "outputs": [
    {
     "data": {
      "text/plain": [
       "29753"
      ]
     },
     "execution_count": 12,
     "metadata": {},
     "output_type": "execute_result"
    }
   ],
   "source": [
    "zomato_df.to_sql('chefmate',con=engine,if_exists='replace')"
   ]
  },
  {
   "cell_type": "code",
   "execution_count": 13,
   "metadata": {},
   "outputs": [],
   "source": [
    "server = 'chefmatedb.c3i8ggm6665z.ap-south-1.rds.amazonaws.com'\n",
    "port = 3306\n",
    "user = 'admin'\n",
    "password = os.getenv('dbpassword')\n",
    "database = 'restaurant'\n",
    "sqltype = 'mysql+mysqlconnector'\n",
    "\n",
    "engine = sqlalchemy.create_engine(f'{sqltype}://{user}:{password}@{server}:{port}/{database}')"
   ]
  },
  {
   "cell_type": "code",
   "execution_count": 14,
   "metadata": {},
   "outputs": [],
   "source": [
    "query = 'SELECT * FROM chefmate'"
   ]
  },
  {
   "cell_type": "code",
   "execution_count": 15,
   "metadata": {},
   "outputs": [],
   "source": [
    "df = pd.read_sql(query, engine)"
   ]
  },
  {
   "cell_type": "code",
   "execution_count": 16,
   "metadata": {},
   "outputs": [
    {
     "data": {
      "text/html": [
       "<div>\n",
       "<style scoped>\n",
       "    .dataframe tbody tr th:only-of-type {\n",
       "        vertical-align: middle;\n",
       "    }\n",
       "\n",
       "    .dataframe tbody tr th {\n",
       "        vertical-align: top;\n",
       "    }\n",
       "\n",
       "    .dataframe thead th {\n",
       "        text-align: right;\n",
       "    }\n",
       "</style>\n",
       "<table border=\"1\" class=\"dataframe\">\n",
       "  <thead>\n",
       "    <tr style=\"text-align: right;\">\n",
       "      <th></th>\n",
       "      <th>index</th>\n",
       "      <th>Restaurant ID</th>\n",
       "      <th>Restaurant Name</th>\n",
       "      <th>Location</th>\n",
       "      <th>Cuisine</th>\n",
       "      <th>Ratings</th>\n",
       "      <th>Rating text</th>\n",
       "      <th>Average Cost for Two</th>\n",
       "      <th>Price Range</th>\n",
       "      <th>Table Booking</th>\n",
       "      <th>Online Delivery</th>\n",
       "      <th>Delivering now</th>\n",
       "      <th>Longitude</th>\n",
       "      <th>Latitude</th>\n",
       "      <th>City</th>\n",
       "      <th>Locality</th>\n",
       "    </tr>\n",
       "  </thead>\n",
       "  <tbody>\n",
       "    <tr>\n",
       "      <th>0</th>\n",
       "      <td>0</td>\n",
       "      <td>308322</td>\n",
       "      <td>Hauz Khas Social</td>\n",
       "      <td>9-A &amp; 12, Hauz Khas Village, New Delhi</td>\n",
       "      <td>Continental, American, Asian, North Indian</td>\n",
       "      <td>4.3</td>\n",
       "      <td>Very Good</td>\n",
       "      <td>1600</td>\n",
       "      <td>3</td>\n",
       "      <td>1</td>\n",
       "      <td>1</td>\n",
       "      <td>0</td>\n",
       "      <td>77.194471</td>\n",
       "      <td>28.554285</td>\n",
       "      <td>New Delhi</td>\n",
       "      <td>Hauz Khas Village</td>\n",
       "    </tr>\n",
       "    <tr>\n",
       "      <th>1</th>\n",
       "      <td>1</td>\n",
       "      <td>18037817</td>\n",
       "      <td>Qubitos - The Terrace Cafe</td>\n",
       "      <td>C-7, Vishal Enclave, Opposite Metro Pillar 417...</td>\n",
       "      <td>Thai, European, Mexican, North Indian, Chinese...</td>\n",
       "      <td>4.5</td>\n",
       "      <td>Excellent</td>\n",
       "      <td>1500</td>\n",
       "      <td>3</td>\n",
       "      <td>1</td>\n",
       "      <td>0</td>\n",
       "      <td>0</td>\n",
       "      <td>77.117701</td>\n",
       "      <td>28.647133</td>\n",
       "      <td>New Delhi</td>\n",
       "      <td>Rajouri Garden</td>\n",
       "    </tr>\n",
       "    <tr>\n",
       "      <th>2</th>\n",
       "      <td>2</td>\n",
       "      <td>312345</td>\n",
       "      <td>The Hudson Cafe</td>\n",
       "      <td>2524, 1st Floor, Hudson Lane, Delhi University...</td>\n",
       "      <td>Cafe, Italian, Continental, Chinese</td>\n",
       "      <td>4.4</td>\n",
       "      <td>Very Good</td>\n",
       "      <td>850</td>\n",
       "      <td>2</td>\n",
       "      <td>0</td>\n",
       "      <td>1</td>\n",
       "      <td>0</td>\n",
       "      <td>77.204317</td>\n",
       "      <td>28.694947</td>\n",
       "      <td>New Delhi</td>\n",
       "      <td>Delhi University-GTB Nagar</td>\n",
       "    </tr>\n",
       "    <tr>\n",
       "      <th>3</th>\n",
       "      <td>3</td>\n",
       "      <td>307490</td>\n",
       "      <td>Summer House Cafe</td>\n",
       "      <td>1st Floor, DDA Shopping Complex, Aurobindo Pla...</td>\n",
       "      <td>Italian, Continental</td>\n",
       "      <td>4.1</td>\n",
       "      <td>Very Good</td>\n",
       "      <td>1850</td>\n",
       "      <td>3</td>\n",
       "      <td>1</td>\n",
       "      <td>0</td>\n",
       "      <td>0</td>\n",
       "      <td>77.203809</td>\n",
       "      <td>28.552520</td>\n",
       "      <td>New Delhi</td>\n",
       "      <td>Hauz Khas</td>\n",
       "    </tr>\n",
       "    <tr>\n",
       "      <th>4</th>\n",
       "      <td>4</td>\n",
       "      <td>18241537</td>\n",
       "      <td>38 Barracks</td>\n",
       "      <td>M-38, Outer Circle, Connaught Place, New Delhi</td>\n",
       "      <td>North Indian, Italian, Asian, American</td>\n",
       "      <td>4.4</td>\n",
       "      <td>Very Good</td>\n",
       "      <td>1600</td>\n",
       "      <td>3</td>\n",
       "      <td>1</td>\n",
       "      <td>0</td>\n",
       "      <td>0</td>\n",
       "      <td>77.222858</td>\n",
       "      <td>28.633025</td>\n",
       "      <td>New Delhi</td>\n",
       "      <td>Connaught Place</td>\n",
       "    </tr>\n",
       "    <tr>\n",
       "      <th>...</th>\n",
       "      <td>...</td>\n",
       "      <td>...</td>\n",
       "      <td>...</td>\n",
       "      <td>...</td>\n",
       "      <td>...</td>\n",
       "      <td>...</td>\n",
       "      <td>...</td>\n",
       "      <td>...</td>\n",
       "      <td>...</td>\n",
       "      <td>...</td>\n",
       "      <td>...</td>\n",
       "      <td>...</td>\n",
       "      <td>...</td>\n",
       "      <td>...</td>\n",
       "      <td>...</td>\n",
       "      <td>...</td>\n",
       "    </tr>\n",
       "    <tr>\n",
       "      <th>29748</th>\n",
       "      <td>29748</td>\n",
       "      <td>17582627</td>\n",
       "      <td>Senor Iguanas</td>\n",
       "      <td>961 Hiline Rd, Pocatello, ID 83201</td>\n",
       "      <td>Mexican</td>\n",
       "      <td>3.6</td>\n",
       "      <td>Good</td>\n",
       "      <td>0</td>\n",
       "      <td>1</td>\n",
       "      <td>0</td>\n",
       "      <td>0</td>\n",
       "      <td>0</td>\n",
       "      <td>-112.443300</td>\n",
       "      <td>42.894200</td>\n",
       "      <td>Pocatello</td>\n",
       "      <td>Pocatello</td>\n",
       "    </tr>\n",
       "    <tr>\n",
       "      <th>29749</th>\n",
       "      <td>29749</td>\n",
       "      <td>17582625</td>\n",
       "      <td>Sandpiper Restaurant &amp; Lounge</td>\n",
       "      <td>1400 Bench Rd, Pocatello, ID 83201</td>\n",
       "      <td>American, Seafood, Steak</td>\n",
       "      <td>3.6</td>\n",
       "      <td>Good</td>\n",
       "      <td>40</td>\n",
       "      <td>3</td>\n",
       "      <td>0</td>\n",
       "      <td>0</td>\n",
       "      <td>0</td>\n",
       "      <td>-112.432000</td>\n",
       "      <td>42.901200</td>\n",
       "      <td>Pocatello</td>\n",
       "      <td>Pocatello</td>\n",
       "    </tr>\n",
       "    <tr>\n",
       "      <th>29750</th>\n",
       "      <td>29750</td>\n",
       "      <td>17582668</td>\n",
       "      <td>Texas Roadhouse</td>\n",
       "      <td>560 Bullock Street, Pocatello, ID 83202</td>\n",
       "      <td>American, BBQ, Steak</td>\n",
       "      <td>3.5</td>\n",
       "      <td>Good</td>\n",
       "      <td>45</td>\n",
       "      <td>3</td>\n",
       "      <td>0</td>\n",
       "      <td>0</td>\n",
       "      <td>0</td>\n",
       "      <td>-112.461326</td>\n",
       "      <td>42.910518</td>\n",
       "      <td>Pocatello</td>\n",
       "      <td>Chubbuck</td>\n",
       "    </tr>\n",
       "    <tr>\n",
       "      <th>29751</th>\n",
       "      <td>29751</td>\n",
       "      <td>17582498</td>\n",
       "      <td>Riverwalk Cafe</td>\n",
       "      <td>695 E Main St, Lava Hot Springs, ID 83246</td>\n",
       "      <td>Asian, Thai</td>\n",
       "      <td>3.6</td>\n",
       "      <td>Good</td>\n",
       "      <td>10</td>\n",
       "      <td>1</td>\n",
       "      <td>0</td>\n",
       "      <td>0</td>\n",
       "      <td>0</td>\n",
       "      <td>-112.013200</td>\n",
       "      <td>42.620000</td>\n",
       "      <td>Pocatello</td>\n",
       "      <td>Lava Hot Springs</td>\n",
       "    </tr>\n",
       "    <tr>\n",
       "      <th>29752</th>\n",
       "      <td>29752</td>\n",
       "      <td>17582499</td>\n",
       "      <td>Royal Hotel</td>\n",
       "      <td>11 E Main St, Lava Hot Springs, ID 83246</td>\n",
       "      <td>Pizza, Bar Food</td>\n",
       "      <td>3.6</td>\n",
       "      <td>Good</td>\n",
       "      <td>0</td>\n",
       "      <td>1</td>\n",
       "      <td>0</td>\n",
       "      <td>0</td>\n",
       "      <td>0</td>\n",
       "      <td>-112.012700</td>\n",
       "      <td>42.619200</td>\n",
       "      <td>Pocatello</td>\n",
       "      <td>Lava Hot Springs</td>\n",
       "    </tr>\n",
       "  </tbody>\n",
       "</table>\n",
       "<p>29753 rows × 16 columns</p>\n",
       "</div>"
      ],
      "text/plain": [
       "       index  Restaurant ID                Restaurant Name  \\\n",
       "0          0         308322               Hauz Khas Social   \n",
       "1          1       18037817     Qubitos - The Terrace Cafe   \n",
       "2          2         312345                The Hudson Cafe   \n",
       "3          3         307490              Summer House Cafe   \n",
       "4          4       18241537                    38 Barracks   \n",
       "...      ...            ...                            ...   \n",
       "29748  29748       17582627                  Senor Iguanas   \n",
       "29749  29749       17582625  Sandpiper Restaurant & Lounge   \n",
       "29750  29750       17582668                Texas Roadhouse   \n",
       "29751  29751       17582498                 Riverwalk Cafe   \n",
       "29752  29752       17582499                    Royal Hotel   \n",
       "\n",
       "                                                Location  \\\n",
       "0                 9-A & 12, Hauz Khas Village, New Delhi   \n",
       "1      C-7, Vishal Enclave, Opposite Metro Pillar 417...   \n",
       "2      2524, 1st Floor, Hudson Lane, Delhi University...   \n",
       "3      1st Floor, DDA Shopping Complex, Aurobindo Pla...   \n",
       "4         M-38, Outer Circle, Connaught Place, New Delhi   \n",
       "...                                                  ...   \n",
       "29748                 961 Hiline Rd, Pocatello, ID 83201   \n",
       "29749                 1400 Bench Rd, Pocatello, ID 83201   \n",
       "29750            560 Bullock Street, Pocatello, ID 83202   \n",
       "29751          695 E Main St, Lava Hot Springs, ID 83246   \n",
       "29752           11 E Main St, Lava Hot Springs, ID 83246   \n",
       "\n",
       "                                                 Cuisine  Ratings Rating text  \\\n",
       "0             Continental, American, Asian, North Indian      4.3   Very Good   \n",
       "1      Thai, European, Mexican, North Indian, Chinese...      4.5   Excellent   \n",
       "2                    Cafe, Italian, Continental, Chinese      4.4   Very Good   \n",
       "3                                   Italian, Continental      4.1   Very Good   \n",
       "4                 North Indian, Italian, Asian, American      4.4   Very Good   \n",
       "...                                                  ...      ...         ...   \n",
       "29748                                            Mexican      3.6        Good   \n",
       "29749                           American, Seafood, Steak      3.6        Good   \n",
       "29750                               American, BBQ, Steak      3.5        Good   \n",
       "29751                                        Asian, Thai      3.6        Good   \n",
       "29752                                    Pizza, Bar Food      3.6        Good   \n",
       "\n",
       "       Average Cost for Two  Price Range  Table Booking  Online Delivery  \\\n",
       "0                      1600            3              1                1   \n",
       "1                      1500            3              1                0   \n",
       "2                       850            2              0                1   \n",
       "3                      1850            3              1                0   \n",
       "4                      1600            3              1                0   \n",
       "...                     ...          ...            ...              ...   \n",
       "29748                     0            1              0                0   \n",
       "29749                    40            3              0                0   \n",
       "29750                    45            3              0                0   \n",
       "29751                    10            1              0                0   \n",
       "29752                     0            1              0                0   \n",
       "\n",
       "       Delivering now   Longitude   Latitude       City  \\\n",
       "0                   0   77.194471  28.554285  New Delhi   \n",
       "1                   0   77.117701  28.647133  New Delhi   \n",
       "2                   0   77.204317  28.694947  New Delhi   \n",
       "3                   0   77.203809  28.552520  New Delhi   \n",
       "4                   0   77.222858  28.633025  New Delhi   \n",
       "...               ...         ...        ...        ...   \n",
       "29748               0 -112.443300  42.894200  Pocatello   \n",
       "29749               0 -112.432000  42.901200  Pocatello   \n",
       "29750               0 -112.461326  42.910518  Pocatello   \n",
       "29751               0 -112.013200  42.620000  Pocatello   \n",
       "29752               0 -112.012700  42.619200  Pocatello   \n",
       "\n",
       "                         Locality  \n",
       "0               Hauz Khas Village  \n",
       "1                  Rajouri Garden  \n",
       "2      Delhi University-GTB Nagar  \n",
       "3                       Hauz Khas  \n",
       "4                 Connaught Place  \n",
       "...                           ...  \n",
       "29748                   Pocatello  \n",
       "29749                   Pocatello  \n",
       "29750                    Chubbuck  \n",
       "29751            Lava Hot Springs  \n",
       "29752            Lava Hot Springs  \n",
       "\n",
       "[29753 rows x 16 columns]"
      ]
     },
     "execution_count": 16,
     "metadata": {},
     "output_type": "execute_result"
    }
   ],
   "source": [
    "df"
   ]
  },
  {
   "cell_type": "code",
   "execution_count": 17,
   "metadata": {},
   "outputs": [],
   "source": [
    "df.to_csv('zomatodf.csv',index=False)"
   ]
  },
  {
   "cell_type": "code",
   "execution_count": 21,
   "metadata": {},
   "outputs": [],
   "source": [
    "import matplotlib.pyplot as plt\n",
    "import seaborn as sns\n",
    "import warnings\n",
    "warnings.filterwarnings(\"ignore\")"
   ]
  },
  {
   "cell_type": "code",
   "execution_count": 22,
   "metadata": {},
   "outputs": [],
   "source": [
    "zomato_df=pd.read_csv('zomatodf.csv')"
   ]
  },
  {
   "cell_type": "code",
   "execution_count": 23,
   "metadata": {},
   "outputs": [],
   "source": [
    "zomato_df.drop(columns=['index'], inplace=True)"
   ]
  },
  {
   "cell_type": "code",
   "execution_count": 26,
   "metadata": {},
   "outputs": [
    {
     "data": {
      "text/html": [
       "<div>\n",
       "<style scoped>\n",
       "    .dataframe tbody tr th:only-of-type {\n",
       "        vertical-align: middle;\n",
       "    }\n",
       "\n",
       "    .dataframe tbody tr th {\n",
       "        vertical-align: top;\n",
       "    }\n",
       "\n",
       "    .dataframe thead th {\n",
       "        text-align: right;\n",
       "    }\n",
       "</style>\n",
       "<table border=\"1\" class=\"dataframe\">\n",
       "  <thead>\n",
       "    <tr style=\"text-align: right;\">\n",
       "      <th></th>\n",
       "      <th>Restaurant ID</th>\n",
       "      <th>Restaurant Name</th>\n",
       "      <th>Location</th>\n",
       "      <th>Cuisine</th>\n",
       "      <th>Ratings</th>\n",
       "      <th>Rating text</th>\n",
       "      <th>Average Cost for Two</th>\n",
       "      <th>Price Range</th>\n",
       "      <th>Table Booking</th>\n",
       "      <th>Online Delivery</th>\n",
       "      <th>Delivering now</th>\n",
       "      <th>Longitude</th>\n",
       "      <th>Latitude</th>\n",
       "      <th>City</th>\n",
       "      <th>Locality</th>\n",
       "    </tr>\n",
       "  </thead>\n",
       "  <tbody>\n",
       "    <tr>\n",
       "      <th>0</th>\n",
       "      <td>308322</td>\n",
       "      <td>Hauz Khas Social</td>\n",
       "      <td>9-A &amp; 12, Hauz Khas Village, New Delhi</td>\n",
       "      <td>Continental, American, Asian, North Indian</td>\n",
       "      <td>4.3</td>\n",
       "      <td>Very Good</td>\n",
       "      <td>1600</td>\n",
       "      <td>3</td>\n",
       "      <td>1</td>\n",
       "      <td>1</td>\n",
       "      <td>0</td>\n",
       "      <td>77.194471</td>\n",
       "      <td>28.554285</td>\n",
       "      <td>New Delhi</td>\n",
       "      <td>Hauz Khas Village</td>\n",
       "    </tr>\n",
       "    <tr>\n",
       "      <th>1</th>\n",
       "      <td>18037817</td>\n",
       "      <td>Qubitos - The Terrace Cafe</td>\n",
       "      <td>C-7, Vishal Enclave, Opposite Metro Pillar 417...</td>\n",
       "      <td>Thai, European, Mexican, North Indian, Chinese...</td>\n",
       "      <td>4.5</td>\n",
       "      <td>Excellent</td>\n",
       "      <td>1500</td>\n",
       "      <td>3</td>\n",
       "      <td>1</td>\n",
       "      <td>0</td>\n",
       "      <td>0</td>\n",
       "      <td>77.117701</td>\n",
       "      <td>28.647133</td>\n",
       "      <td>New Delhi</td>\n",
       "      <td>Rajouri Garden</td>\n",
       "    </tr>\n",
       "    <tr>\n",
       "      <th>2</th>\n",
       "      <td>312345</td>\n",
       "      <td>The Hudson Cafe</td>\n",
       "      <td>2524, 1st Floor, Hudson Lane, Delhi University...</td>\n",
       "      <td>Cafe, Italian, Continental, Chinese</td>\n",
       "      <td>4.4</td>\n",
       "      <td>Very Good</td>\n",
       "      <td>850</td>\n",
       "      <td>2</td>\n",
       "      <td>0</td>\n",
       "      <td>1</td>\n",
       "      <td>0</td>\n",
       "      <td>77.204317</td>\n",
       "      <td>28.694947</td>\n",
       "      <td>New Delhi</td>\n",
       "      <td>Delhi University-GTB Nagar</td>\n",
       "    </tr>\n",
       "    <tr>\n",
       "      <th>3</th>\n",
       "      <td>307490</td>\n",
       "      <td>Summer House Cafe</td>\n",
       "      <td>1st Floor, DDA Shopping Complex, Aurobindo Pla...</td>\n",
       "      <td>Italian, Continental</td>\n",
       "      <td>4.1</td>\n",
       "      <td>Very Good</td>\n",
       "      <td>1850</td>\n",
       "      <td>3</td>\n",
       "      <td>1</td>\n",
       "      <td>0</td>\n",
       "      <td>0</td>\n",
       "      <td>77.203809</td>\n",
       "      <td>28.552520</td>\n",
       "      <td>New Delhi</td>\n",
       "      <td>Hauz Khas</td>\n",
       "    </tr>\n",
       "    <tr>\n",
       "      <th>4</th>\n",
       "      <td>18241537</td>\n",
       "      <td>38 Barracks</td>\n",
       "      <td>M-38, Outer Circle, Connaught Place, New Delhi</td>\n",
       "      <td>North Indian, Italian, Asian, American</td>\n",
       "      <td>4.4</td>\n",
       "      <td>Very Good</td>\n",
       "      <td>1600</td>\n",
       "      <td>3</td>\n",
       "      <td>1</td>\n",
       "      <td>0</td>\n",
       "      <td>0</td>\n",
       "      <td>77.222858</td>\n",
       "      <td>28.633025</td>\n",
       "      <td>New Delhi</td>\n",
       "      <td>Connaught Place</td>\n",
       "    </tr>\n",
       "  </tbody>\n",
       "</table>\n",
       "</div>"
      ],
      "text/plain": [
       "   Restaurant ID             Restaurant Name  \\\n",
       "0         308322            Hauz Khas Social   \n",
       "1       18037817  Qubitos - The Terrace Cafe   \n",
       "2         312345             The Hudson Cafe   \n",
       "3         307490           Summer House Cafe   \n",
       "4       18241537                 38 Barracks   \n",
       "\n",
       "                                            Location  \\\n",
       "0             9-A & 12, Hauz Khas Village, New Delhi   \n",
       "1  C-7, Vishal Enclave, Opposite Metro Pillar 417...   \n",
       "2  2524, 1st Floor, Hudson Lane, Delhi University...   \n",
       "3  1st Floor, DDA Shopping Complex, Aurobindo Pla...   \n",
       "4     M-38, Outer Circle, Connaught Place, New Delhi   \n",
       "\n",
       "                                             Cuisine  Ratings Rating text  \\\n",
       "0         Continental, American, Asian, North Indian      4.3   Very Good   \n",
       "1  Thai, European, Mexican, North Indian, Chinese...      4.5   Excellent   \n",
       "2                Cafe, Italian, Continental, Chinese      4.4   Very Good   \n",
       "3                               Italian, Continental      4.1   Very Good   \n",
       "4             North Indian, Italian, Asian, American      4.4   Very Good   \n",
       "\n",
       "   Average Cost for Two  Price Range  Table Booking  Online Delivery  \\\n",
       "0                  1600            3              1                1   \n",
       "1                  1500            3              1                0   \n",
       "2                   850            2              0                1   \n",
       "3                  1850            3              1                0   \n",
       "4                  1600            3              1                0   \n",
       "\n",
       "   Delivering now  Longitude   Latitude       City                    Locality  \n",
       "0               0  77.194471  28.554285  New Delhi           Hauz Khas Village  \n",
       "1               0  77.117701  28.647133  New Delhi              Rajouri Garden  \n",
       "2               0  77.204317  28.694947  New Delhi  Delhi University-GTB Nagar  \n",
       "3               0  77.203809  28.552520  New Delhi                   Hauz Khas  \n",
       "4               0  77.222858  28.633025  New Delhi             Connaught Place  "
      ]
     },
     "execution_count": 26,
     "metadata": {},
     "output_type": "execute_result"
    }
   ],
   "source": [
    "zomato_df.head()"
   ]
  },
  {
   "cell_type": "code",
   "execution_count": 27,
   "metadata": {},
   "outputs": [
    {
     "data": {
      "text/plain": [
       "Restaurant ID             0\n",
       "Restaurant Name           0\n",
       "Location                  0\n",
       "Cuisine                 190\n",
       "Ratings                   0\n",
       "Rating text               0\n",
       "Average Cost for Two      0\n",
       "Price Range               0\n",
       "Table Booking             0\n",
       "Online Delivery           0\n",
       "Delivering now            0\n",
       "Longitude                 0\n",
       "Latitude                  0\n",
       "City                      0\n",
       "Locality                  0\n",
       "dtype: int64"
      ]
     },
     "execution_count": 27,
     "metadata": {},
     "output_type": "execute_result"
    }
   ],
   "source": [
    "zomato_df.isnull().sum()"
   ]
  },
  {
   "cell_type": "code",
   "execution_count": 28,
   "metadata": {},
   "outputs": [],
   "source": [
    "zomato_df['Cuisine'] = zomato_df['Cuisine'].fillna(zomato_df['Cuisine'].mode()[0])"
   ]
  },
  {
   "cell_type": "code",
   "execution_count": 29,
   "metadata": {},
   "outputs": [
    {
     "data": {
      "text/plain": [
       "Restaurant ID           0\n",
       "Restaurant Name         0\n",
       "Location                0\n",
       "Cuisine                 0\n",
       "Ratings                 0\n",
       "Rating text             0\n",
       "Average Cost for Two    0\n",
       "Price Range             0\n",
       "Table Booking           0\n",
       "Online Delivery         0\n",
       "Delivering now          0\n",
       "Longitude               0\n",
       "Latitude                0\n",
       "City                    0\n",
       "Locality                0\n",
       "dtype: int64"
      ]
     },
     "execution_count": 29,
     "metadata": {},
     "output_type": "execute_result"
    }
   ],
   "source": [
    "zomato_df.isnull().sum()"
   ]
  },
  {
   "cell_type": "markdown",
   "metadata": {},
   "source": [
    "Exploratory Data Analysis"
   ]
  },
  {
   "cell_type": "code",
   "execution_count": 30,
   "metadata": {},
   "outputs": [
    {
     "data": {
      "text/plain": [
       "Index(['Restaurant Name', 'Location', 'Cuisine', 'Rating text', 'City',\n",
       "       'Locality'],\n",
       "      dtype='object')"
      ]
     },
     "execution_count": 30,
     "metadata": {},
     "output_type": "execute_result"
    }
   ],
   "source": [
    "categorical_columns = zomato_df.select_dtypes(include=['object']).columns\n",
    "categorical_columns"
   ]
  },
  {
   "cell_type": "code",
   "execution_count": 31,
   "metadata": {},
   "outputs": [
    {
     "data": {
      "text/plain": [
       "Cuisine\n",
       "North Indian                  2153\n",
       "Cafe                           895\n",
       "North Indian, Chinese          854\n",
       "North Indian, Mughlai          783\n",
       "Chinese                        515\n",
       "                              ... \n",
       "Cafe, Chinese, Continental       1\n",
       "Tex-Mex, American                1\n",
       "International, Pizza             1\n",
       "American, BBQ, Seafood           1\n",
       "Breakfast, Pizza                 1\n",
       "Name: count, Length: 1834, dtype: int64"
      ]
     },
     "execution_count": 31,
     "metadata": {},
     "output_type": "execute_result"
    }
   ],
   "source": [
    "cuisine_counts=zomato_df['Cuisine'].value_counts()\n",
    "cuisine_counts"
   ]
  },
  {
   "cell_type": "code",
   "execution_count": 32,
   "metadata": {},
   "outputs": [
    {
     "data": {
      "text/plain": [
       "City\n",
       "New Delhi        12362\n",
       "Noida             2885\n",
       "Gurgaon           2052\n",
       "Guwahati           592\n",
       "Lucknow            398\n",
       "                 ...  \n",
       "Quezon City          1\n",
       "Mohali               1\n",
       "Tagaytay City        1\n",
       "Randburg             1\n",
       "Panchkula            1\n",
       "Name: count, Length: 142, dtype: int64"
      ]
     },
     "execution_count": 32,
     "metadata": {},
     "output_type": "execute_result"
    }
   ],
   "source": [
    "city_counts=zomato_df['City'].value_counts()\n",
    "city_counts"
   ]
  },
  {
   "cell_type": "code",
   "execution_count": 33,
   "metadata": {},
   "outputs": [
    {
     "data": {
      "text/plain": [
       "Locality\n",
       "Connaught Place               1549\n",
       "Rajouri Garden                 471\n",
       "Gomti Nagar                    389\n",
       "Delhi University-GTB Nagar     351\n",
       "Hepburn Springs                344\n",
       "                              ... \n",
       "Spring City Mall, Doranda        1\n",
       "Urbandale                        1\n",
       "Greater South Side               1\n",
       "Kailua Kona                      1\n",
       "Kahuku                           1\n",
       "Name: count, Length: 1221, dtype: int64"
      ]
     },
     "execution_count": 33,
     "metadata": {},
     "output_type": "execute_result"
    }
   ],
   "source": [
    "locatity_counts=zomato_df['Locality'].value_counts()\n",
    "locatity_counts"
   ]
  },
  {
   "cell_type": "code",
   "execution_count": 34,
   "metadata": {},
   "outputs": [
    {
     "data": {
      "text/plain": [
       "Rating text\n",
       "Very Good    8353\n",
       "Good         8064\n",
       "Average      7578\n",
       "Not rated    3164\n",
       "Excellent    1957\n",
       "Poor          637\n",
       "Name: count, dtype: int64"
      ]
     },
     "execution_count": 34,
     "metadata": {},
     "output_type": "execute_result"
    }
   ],
   "source": [
    "rating_counts = zomato_df['Rating text'].value_counts()\n",
    "rating_counts"
   ]
  },
  {
   "cell_type": "code",
   "execution_count": 35,
   "metadata": {},
   "outputs": [
    {
     "data": {
      "image/png": "[encoded data removed]",
      "text/plain": [
       "<Figure size 800x600 with 1 Axes>"
      ]
     },
     "metadata": {},
     "output_type": "display_data"
    }
   ],
   "source": [
    "plt.figure(figsize=(8, 6))\n",
    "sns.barplot(x=rating_counts.index, y=rating_counts.values)\n",
    "plt.title('Bar Plot for Rating Text')\n",
    "plt.xlabel('Rating Text')\n",
    "plt.ylabel('Count')\n",
    "plt.xticks(rotation=45)  \n",
    "plt.show()"
   ]
  },
  {
   "cell_type": "code",
   "execution_count": 36,
   "metadata": {},
   "outputs": [
    {
     "data": {
      "text/plain": [
       "Index(['Restaurant ID', 'Ratings', 'Average Cost for Two', 'Price Range',\n",
       "       'Table Booking', 'Online Delivery', 'Delivering now', 'Longitude',\n",
       "       'Latitude'],\n",
       "      dtype='object')"
      ]
     },
     "execution_count": 36,
     "metadata": {},
     "output_type": "execute_result"
    }
   ],
   "source": [
    "numerical_columns = zomato_df.select_dtypes(include=['int64', 'float64']).columns\n",
    "numerical_columns"
   ]
  },
  {
   "cell_type": "code",
   "execution_count": 37,
   "metadata": {},
   "outputs": [
    {
     "data": {
      "text/plain": [
       "Ratings\n",
       "0.0    3164\n",
       "4.1    2488\n",
       "4.3    2272\n",
       "3.6    1981\n",
       "3.8    1759\n",
       "3.7    1612\n",
       "3.9    1509\n",
       "4.4    1299\n",
       "4.2    1264\n",
       "3.2    1255\n",
       "3.5    1203\n",
       "3.4    1157\n",
       "3.3    1071\n",
       "4.0    1030\n",
       "3.1     916\n",
       "3.0     902\n",
       "2.9     778\n",
       "4.6     693\n",
       "2.6     477\n",
       "2.4     468\n",
       "2.8     461\n",
       "4.9     402\n",
       "4.5     398\n",
       "2.7     374\n",
       "4.7     254\n",
       "4.8     210\n",
       "2.5     187\n",
       "2.3      98\n",
       "2.2      37\n",
       "2.1      19\n",
       "2.0      12\n",
       "1.9       2\n",
       "1.8       1\n",
       "Name: count, dtype: int64"
      ]
     },
     "execution_count": 37,
     "metadata": {},
     "output_type": "execute_result"
    }
   ],
   "source": [
    "ratings_counts = zomato_df['Ratings'].value_counts()\n",
    "ratings_counts"
   ]
  },
  {
   "cell_type": "code",
   "execution_count": 38,
   "metadata": {},
   "outputs": [
    {
     "data": {
      "image/png": "[encoded data removed]",
      "text/plain": [
       "<Figure size 800x600 with 1 Axes>"
      ]
     },
     "metadata": {},
     "output_type": "display_data"
    }
   ],
   "source": [
    "plt.figure(figsize=(8, 6))\n",
    "sns.barplot(x=ratings_counts.index, y=ratings_counts.values)\n",
    "plt.title('Bar Plot for Ratings')\n",
    "plt.xlabel('Ratings')\n",
    "plt.ylabel('Count')\n",
    "plt.xticks(rotation=45)  \n",
    "plt.show()"
   ]
  },
  {
   "cell_type": "code",
   "execution_count": 39,
   "metadata": {},
   "outputs": [
    {
     "data": {
      "text/plain": [
       "Price Range\n",
       "2    10911\n",
       "1     8234\n",
       "3     7524\n",
       "4     3084\n",
       "Name: count, dtype: int64"
      ]
     },
     "execution_count": 39,
     "metadata": {},
     "output_type": "execute_result"
    }
   ],
   "source": [
    "price_counts = zomato_df['Price Range'].value_counts()\n",
    "price_counts"
   ]
  },
  {
   "cell_type": "code",
   "execution_count": 40,
   "metadata": {},
   "outputs": [
    {
     "data": {
      "image/png": "[encoded data removed]",
      "text/plain": [
       "<Figure size 800x400 with 1 Axes>"
      ]
     },
     "metadata": {},
     "output_type": "display_data"
    }
   ],
   "source": [
    "plt.figure(figsize=(8, 4))\n",
    "sns.barplot(x=price_counts.index, y=price_counts.values)\n",
    "plt.title('Bar Plot Price')\n",
    "plt.xlabel('Price Range')\n",
    "plt.ylabel('Count')\n",
    "plt.xticks(rotation=45)  \n",
    "plt.show()"
   ]
  },
  {
   "cell_type": "code",
   "execution_count": null,
   "metadata": {},
   "outputs": [],
   "source": []
  },
  {
   "cell_type": "code",
   "execution_count": null,
   "metadata": {},
   "outputs": [],
   "source": []
  }
 ],
 "metadata": {
  "kernelspec": {
   "display_name": ".venv",
   "language": "python",
   "name": "python3"
  },
  "language_info": {
   "codemirror_mode": {
    "name": "ipython",
    "version": 3
   },
   "file_extension": ".py",
   "mimetype": "text/x-python",
   "name": "python",
   "nbconvert_exporter": "python",
   "pygments_lexer": "ipython3",
   "version": "3.12.1"
  }
 },
 "nbformat": 4,
 "nbformat_minor": 2
}
