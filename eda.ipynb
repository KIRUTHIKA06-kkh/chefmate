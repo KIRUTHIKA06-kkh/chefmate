{
 "cells": [
  {
   "cell_type": "code",
   "execution_count": 1,
   "metadata": {},
   "outputs": [],
   "source": [
    "import pandas as pd\n",
    "import matplotlib.pyplot as plt\n",
    "import seaborn as sns\n",
    "import warnings\n",
    "warnings.filterwarnings(\"ignore\")"
   ]
  },
  {
   "cell_type": "code",
   "execution_count": 2,
   "metadata": {},
   "outputs": [],
   "source": [
    "zomato_df=pd.read_csv('zomato_df.csv')"
   ]
  },
  {
   "cell_type": "code",
   "execution_count": 3,
   "metadata": {},
   "outputs": [
    {
     "data": {
      "text/html": [
       "<div>\n",
       "<style scoped>\n",
       "    .dataframe tbody tr th:only-of-type {\n",
       "        vertical-align: middle;\n",
       "    }\n",
       "\n",
       "    .dataframe tbody tr th {\n",
       "        vertical-align: top;\n",
       "    }\n",
       "\n",
       "    .dataframe thead th {\n",
       "        text-align: right;\n",
       "    }\n",
       "</style>\n",
       "<table border=\"1\" class=\"dataframe\">\n",
       "  <thead>\n",
       "    <tr style=\"text-align: right;\">\n",
       "      <th></th>\n",
       "      <th>Restaurant ID</th>\n",
       "      <th>Restaurant Name</th>\n",
       "      <th>Location</th>\n",
       "      <th>Cuisine</th>\n",
       "      <th>Ratings</th>\n",
       "      <th>Rating text</th>\n",
       "      <th>Average Cost for Two</th>\n",
       "      <th>Price Range</th>\n",
       "      <th>Table Booking</th>\n",
       "      <th>Online Delivery</th>\n",
       "      <th>Delivering now</th>\n",
       "      <th>Longitude</th>\n",
       "      <th>Latitude</th>\n",
       "      <th>City</th>\n",
       "      <th>Locality</th>\n",
       "    </tr>\n",
       "  </thead>\n",
       "  <tbody>\n",
       "    <tr>\n",
       "      <th>0</th>\n",
       "      <td>308322</td>\n",
       "      <td>Hauz Khas Social</td>\n",
       "      <td>9-A &amp; 12, Hauz Khas Village, New Delhi</td>\n",
       "      <td>Continental, American, Asian, North Indian</td>\n",
       "      <td>4.3</td>\n",
       "      <td>Very Good</td>\n",
       "      <td>1600</td>\n",
       "      <td>3</td>\n",
       "      <td>1</td>\n",
       "      <td>1</td>\n",
       "      <td>0</td>\n",
       "      <td>77.194471</td>\n",
       "      <td>28.554285</td>\n",
       "      <td>New Delhi</td>\n",
       "      <td>Hauz Khas Village</td>\n",
       "    </tr>\n",
       "    <tr>\n",
       "      <th>1</th>\n",
       "      <td>18037817</td>\n",
       "      <td>Qubitos - The Terrace Cafe</td>\n",
       "      <td>C-7, Vishal Enclave, Opposite Metro Pillar 417...</td>\n",
       "      <td>Thai, European, Mexican, North Indian, Chinese...</td>\n",
       "      <td>4.5</td>\n",
       "      <td>Excellent</td>\n",
       "      <td>1500</td>\n",
       "      <td>3</td>\n",
       "      <td>1</td>\n",
       "      <td>0</td>\n",
       "      <td>0</td>\n",
       "      <td>77.117701</td>\n",
       "      <td>28.647133</td>\n",
       "      <td>New Delhi</td>\n",
       "      <td>Rajouri Garden</td>\n",
       "    </tr>\n",
       "    <tr>\n",
       "      <th>2</th>\n",
       "      <td>312345</td>\n",
       "      <td>The Hudson Cafe</td>\n",
       "      <td>2524, 1st Floor, Hudson Lane, Delhi University...</td>\n",
       "      <td>Cafe, Italian, Continental, Chinese</td>\n",
       "      <td>4.4</td>\n",
       "      <td>Very Good</td>\n",
       "      <td>850</td>\n",
       "      <td>2</td>\n",
       "      <td>0</td>\n",
       "      <td>1</td>\n",
       "      <td>0</td>\n",
       "      <td>77.204317</td>\n",
       "      <td>28.694947</td>\n",
       "      <td>New Delhi</td>\n",
       "      <td>Delhi University-GTB Nagar</td>\n",
       "    </tr>\n",
       "    <tr>\n",
       "      <th>3</th>\n",
       "      <td>307490</td>\n",
       "      <td>Summer House Cafe</td>\n",
       "      <td>1st Floor, DDA Shopping Complex, Aurobindo Pla...</td>\n",
       "      <td>Italian, Continental</td>\n",
       "      <td>4.1</td>\n",
       "      <td>Very Good</td>\n",
       "      <td>1850</td>\n",
       "      <td>3</td>\n",
       "      <td>1</td>\n",
       "      <td>0</td>\n",
       "      <td>0</td>\n",
       "      <td>77.203809</td>\n",
       "      <td>28.552520</td>\n",
       "      <td>New Delhi</td>\n",
       "      <td>Hauz Khas</td>\n",
       "    </tr>\n",
       "    <tr>\n",
       "      <th>4</th>\n",
       "      <td>18241537</td>\n",
       "      <td>38 Barracks</td>\n",
       "      <td>M-38, Outer Circle, Connaught Place, New Delhi</td>\n",
       "      <td>North Indian, Italian, Asian, American</td>\n",
       "      <td>4.4</td>\n",
       "      <td>Very Good</td>\n",
       "      <td>1600</td>\n",
       "      <td>3</td>\n",
       "      <td>1</td>\n",
       "      <td>0</td>\n",
       "      <td>0</td>\n",
       "      <td>77.222858</td>\n",
       "      <td>28.633025</td>\n",
       "      <td>New Delhi</td>\n",
       "      <td>Connaught Place</td>\n",
       "    </tr>\n",
       "  </tbody>\n",
       "</table>\n",
       "</div>"
      ],
      "text/plain": [
       "   Restaurant ID             Restaurant Name  \\\n",
       "0         308322            Hauz Khas Social   \n",
       "1       18037817  Qubitos - The Terrace Cafe   \n",
       "2         312345             The Hudson Cafe   \n",
       "3         307490           Summer House Cafe   \n",
       "4       18241537                 38 Barracks   \n",
       "\n",
       "                                            Location  \\\n",
       "0             9-A & 12, Hauz Khas Village, New Delhi   \n",
       "1  C-7, Vishal Enclave, Opposite Metro Pillar 417...   \n",
       "2  2524, 1st Floor, Hudson Lane, Delhi University...   \n",
       "3  1st Floor, DDA Shopping Complex, Aurobindo Pla...   \n",
       "4     M-38, Outer Circle, Connaught Place, New Delhi   \n",
       "\n",
       "                                             Cuisine  Ratings Rating text  \\\n",
       "0         Continental, American, Asian, North Indian      4.3   Very Good   \n",
       "1  Thai, European, Mexican, North Indian, Chinese...      4.5   Excellent   \n",
       "2                Cafe, Italian, Continental, Chinese      4.4   Very Good   \n",
       "3                               Italian, Continental      4.1   Very Good   \n",
       "4             North Indian, Italian, Asian, American      4.4   Very Good   \n",
       "\n",
       "   Average Cost for Two  Price Range  Table Booking  Online Delivery  \\\n",
       "0                  1600            3              1                1   \n",
       "1                  1500            3              1                0   \n",
       "2                   850            2              0                1   \n",
       "3                  1850            3              1                0   \n",
       "4                  1600            3              1                0   \n",
       "\n",
       "   Delivering now  Longitude   Latitude       City                    Locality  \n",
       "0               0  77.194471  28.554285  New Delhi           Hauz Khas Village  \n",
       "1               0  77.117701  28.647133  New Delhi              Rajouri Garden  \n",
       "2               0  77.204317  28.694947  New Delhi  Delhi University-GTB Nagar  \n",
       "3               0  77.203809  28.552520  New Delhi                   Hauz Khas  \n",
       "4               0  77.222858  28.633025  New Delhi             Connaught Place  "
      ]
     },
     "execution_count": 3,
     "metadata": {},
     "output_type": "execute_result"
    }
   ],
   "source": [
    "zomato_df.head()"
   ]
  },
  {
   "cell_type": "code",
   "execution_count": 4,
   "metadata": {},
   "outputs": [
    {
     "data": {
      "text/plain": [
       "Restaurant ID             0\n",
       "Restaurant Name           0\n",
       "Location                  0\n",
       "Cuisine                 190\n",
       "Ratings                   0\n",
       "Rating text               0\n",
       "Average Cost for Two      0\n",
       "Price Range               0\n",
       "Table Booking             0\n",
       "Online Delivery           0\n",
       "Delivering now            0\n",
       "Longitude                 0\n",
       "Latitude                  0\n",
       "City                      0\n",
       "Locality                  0\n",
       "dtype: int64"
      ]
     },
     "execution_count": 4,
     "metadata": {},
     "output_type": "execute_result"
    }
   ],
   "source": [
    "zomato_df.isnull().sum()"
   ]
  },
  {
   "cell_type": "code",
   "execution_count": 5,
   "metadata": {},
   "outputs": [],
   "source": [
    "zomato_df['Cuisine'] = zomato_df['Cuisine'].fillna(zomato_df['Cuisine'].mode()[0])"
   ]
  },
  {
   "cell_type": "code",
   "execution_count": 6,
   "metadata": {},
   "outputs": [
    {
     "data": {
      "text/plain": [
       "Restaurant ID           0\n",
       "Restaurant Name         0\n",
       "Location                0\n",
       "Cuisine                 0\n",
       "Ratings                 0\n",
       "Rating text             0\n",
       "Average Cost for Two    0\n",
       "Price Range             0\n",
       "Table Booking           0\n",
       "Online Delivery         0\n",
       "Delivering now          0\n",
       "Longitude               0\n",
       "Latitude                0\n",
       "City                    0\n",
       "Locality                0\n",
       "dtype: int64"
      ]
     },
     "execution_count": 6,
     "metadata": {},
     "output_type": "execute_result"
    }
   ],
   "source": [
    "zomato_df.isnull().sum()"
   ]
  },
  {
   "cell_type": "markdown",
   "metadata": {},
   "source": [
    "Exploratory Data Analysis"
   ]
  },
  {
   "cell_type": "code",
   "execution_count": 7,
   "metadata": {},
   "outputs": [
    {
     "data": {
      "text/plain": [
       "Index(['Restaurant Name', 'Location', 'Cuisine', 'Rating text', 'City',\n",
       "       'Locality'],\n",
       "      dtype='object')"
      ]
     },
     "execution_count": 7,
     "metadata": {},
     "output_type": "execute_result"
    }
   ],
   "source": [
    "categorical_columns = zomato_df.select_dtypes(include=['object']).columns\n",
    "categorical_columns"
   ]
  },
  {
   "cell_type": "code",
   "execution_count": 8,
   "metadata": {},
   "outputs": [
    {
     "data": {
      "text/plain": [
       "Cuisine\n",
       "North Indian                  2153\n",
       "Cafe                           895\n",
       "North Indian, Chinese          854\n",
       "North Indian, Mughlai          783\n",
       "Chinese                        515\n",
       "                              ... \n",
       "Cafe, Chinese, Continental       1\n",
       "Tex-Mex, American                1\n",
       "International, Pizza             1\n",
       "American, BBQ, Seafood           1\n",
       "Breakfast, Pizza                 1\n",
       "Name: count, Length: 1834, dtype: int64"
      ]
     },
     "execution_count": 8,
     "metadata": {},
     "output_type": "execute_result"
    }
   ],
   "source": [
    "cuisine_counts=zomato_df['Cuisine'].value_counts()\n",
    "cuisine_counts"
   ]
  },
  {
   "cell_type": "code",
   "execution_count": 9,
   "metadata": {},
   "outputs": [
    {
     "data": {
      "text/plain": [
       "City\n",
       "New Delhi        12362\n",
       "Noida             2885\n",
       "Gurgaon           2052\n",
       "Guwahati           592\n",
       "Lucknow            398\n",
       "                 ...  \n",
       "Quezon City          1\n",
       "Mohali               1\n",
       "Tagaytay City        1\n",
       "Randburg             1\n",
       "Panchkula            1\n",
       "Name: count, Length: 142, dtype: int64"
      ]
     },
     "execution_count": 9,
     "metadata": {},
     "output_type": "execute_result"
    }
   ],
   "source": [
    "city_counts=zomato_df['City'].value_counts()\n",
    "city_counts"
   ]
  },
  {
   "cell_type": "code",
   "execution_count": 10,
   "metadata": {},
   "outputs": [
    {
     "data": {
      "text/plain": [
       "Locality\n",
       "Connaught Place               1549\n",
       "Rajouri Garden                 471\n",
       "Gomti Nagar                    389\n",
       "Delhi University-GTB Nagar     351\n",
       "Hepburn Springs                344\n",
       "                              ... \n",
       "Spring City Mall, Doranda        1\n",
       "Urbandale                        1\n",
       "Greater South Side               1\n",
       "Kailua Kona                      1\n",
       "Kahuku                           1\n",
       "Name: count, Length: 1221, dtype: int64"
      ]
     },
     "execution_count": 10,
     "metadata": {},
     "output_type": "execute_result"
    }
   ],
   "source": [
    "locatity_counts=zomato_df['Locality'].value_counts()\n",
    "locatity_counts"
   ]
  },
  {
   "cell_type": "code",
   "execution_count": 11,
   "metadata": {},
   "outputs": [
    {
     "data": {
      "text/plain": [
       "Rating text\n",
       "Very Good    8353\n",
       "Good         8064\n",
       "Average      7578\n",
       "Not rated    3164\n",
       "Excellent    1957\n",
       "Poor          637\n",
       "Name: count, dtype: int64"
      ]
     },
     "execution_count": 11,
     "metadata": {},
     "output_type": "execute_result"
    }
   ],
   "source": [
    "rating_counts = zomato_df['Rating text'].value_counts()\n",
    "rating_counts"
   ]
  },
  {
   "cell_type": "code",
   "execution_count": 12,
   "metadata": {},
   "outputs": [
    {
     "data": {
      "image/png": "[encoded data removed]",
      "text/plain": [
       "<Figure size 800x600 with 1 Axes>"
      ]
     },
     "metadata": {},
     "output_type": "display_data"
    }
   ],
   "source": [
    "plt.figure(figsize=(8, 6))\n",
    "sns.barplot(x=rating_counts.index, y=rating_counts.values)\n",
    "plt.title('Bar Plot for Rating Text')\n",
    "plt.xlabel('Rating Text')\n",
    "plt.ylabel('Count')\n",
    "plt.xticks(rotation=45)  \n",
    "plt.show()"
   ]
  },
  {
   "cell_type": "code",
   "execution_count": 13,
   "metadata": {},
   "outputs": [
    {
     "data": {
      "text/plain": [
       "Index(['Restaurant ID', 'Ratings', 'Average Cost for Two', 'Price Range',\n",
       "       'Table Booking', 'Online Delivery', 'Delivering now', 'Longitude',\n",
       "       'Latitude'],\n",
       "      dtype='object')"
      ]
     },
     "execution_count": 13,
     "metadata": {},
     "output_type": "execute_result"
    }
   ],
   "source": [
    "numerical_columns = zomato_df.select_dtypes(include=['int64', 'float64']).columns\n",
    "numerical_columns"
   ]
  },
  {
   "cell_type": "code",
   "execution_count": 14,
   "metadata": {},
   "outputs": [
    {
     "data": {
      "text/plain": [
       "Ratings\n",
       "0.0    3164\n",
       "4.1    2488\n",
       "4.3    2272\n",
       "3.6    1981\n",
       "3.8    1759\n",
       "3.7    1612\n",
       "3.9    1509\n",
       "4.4    1299\n",
       "4.2    1264\n",
       "3.2    1255\n",
       "3.5    1203\n",
       "3.4    1157\n",
       "3.3    1071\n",
       "4.0    1030\n",
       "3.1     916\n",
       "3.0     902\n",
       "2.9     778\n",
       "4.6     693\n",
       "2.6     477\n",
       "2.4     468\n",
       "2.8     461\n",
       "4.9     402\n",
       "4.5     398\n",
       "2.7     374\n",
       "4.7     254\n",
       "4.8     210\n",
       "2.5     187\n",
       "2.3      98\n",
       "2.2      37\n",
       "2.1      19\n",
       "2.0      12\n",
       "1.9       2\n",
       "1.8       1\n",
       "Name: count, dtype: int64"
      ]
     },
     "execution_count": 14,
     "metadata": {},
     "output_type": "execute_result"
    }
   ],
   "source": [
    "ratings_counts = zomato_df['Ratings'].value_counts()\n",
    "ratings_counts"
   ]
  },
  {
   "cell_type": "code",
   "execution_count": 15,
   "metadata": {},
   "outputs": [
    {
     "data": {
      "image/png": "[encoded data removed]",
      "text/plain": [
       "<Figure size 800x600 with 1 Axes>"
      ]
     },
     "metadata": {},
     "output_type": "display_data"
    }
   ],
   "source": [
    "plt.figure(figsize=(8, 6))\n",
    "sns.barplot(x=ratings_counts.index, y=ratings_counts.values)\n",
    "plt.title('Bar Plot for Ratings')\n",
    "plt.xlabel('Ratings')\n",
    "plt.ylabel('Count')\n",
    "plt.xticks(rotation=45)  \n",
    "plt.show()"
   ]
  },
  {
   "cell_type": "code",
   "execution_count": 16,
   "metadata": {},
   "outputs": [
    {
     "data": {
      "text/plain": [
       "Price Range\n",
       "2    10911\n",
       "1     8234\n",
       "3     7524\n",
       "4     3084\n",
       "Name: count, dtype: int64"
      ]
     },
     "execution_count": 16,
     "metadata": {},
     "output_type": "execute_result"
    }
   ],
   "source": [
    "price_counts = zomato_df['Price Range'].value_counts()\n",
    "price_counts"
   ]
  },
  {
   "cell_type": "code",
   "execution_count": 17,
   "metadata": {},
   "outputs": [
    {
     "data": {
      "image/png": "[encoded data removed]",
      "text/plain": [
       "<Figure size 800x400 with 1 Axes>"
      ]
     },
     "metadata": {},
     "output_type": "display_data"
    }
   ],
   "source": [
    "plt.figure(figsize=(8, 4))\n",
    "sns.barplot(x=price_counts.index, y=price_counts.values)\n",
    "plt.title('Bar Plot Price')\n",
    "plt.xlabel('Price Range')\n",
    "plt.ylabel('Count')\n",
    "plt.xticks(rotation=45)  \n",
    "plt.show()"
   ]
  },
  {
   "cell_type": "code",
   "execution_count": null,
   "metadata": {},
   "outputs": [],
   "source": []
  },
  {
   "cell_type": "code",
   "execution_count": null,
   "metadata": {},
   "outputs": [],
   "source": []
  }
 ],
 "metadata": {
  "kernelspec": {
   "display_name": ".venv",
   "language": "python",
   "name": "python3"
  },
  "language_info": {
   "codemirror_mode": {
    "name": "ipython",
    "version": 3
   },
   "file_extension": ".py",
   "mimetype": "text/x-python",
   "name": "python",
   "nbconvert_exporter": "python",
   "pygments_lexer": "ipython3",
   "version": "3.12.8"
  }
 },
 "nbformat": 4,
 "nbformat_minor": 2
}
